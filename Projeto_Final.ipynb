{
 "cells": [
  {
   "cell_type": "markdown",
   "metadata": {},
   "source": [
    "# Projeto 2 - Ciência dos dados\n",
    "\n",
    "### Integrantes :\n",
    "\n",
    "* Camila Magni \n",
    "* Gustavo Borba\n",
    "* Julia Figueiredo\n",
    "* Lincoln Rodrigo"
   ]
  },
  {
   "cell_type": "markdown",
   "metadata": {},
   "source": [
    "## Introdução"
   ]
  },
  {
   "attachments": {},
   "cell_type": "markdown",
   "metadata": {},
   "source": [
    "![musica](musica.jpg)"
   ]
  },
  {
   "cell_type": "markdown",
   "metadata": {},
   "source": [
    "Atualmente a música tem um grande impacto na vida das pessoas, estando presente no cotidiano de uma parcela considerável da população. Sendo assim, resolvemos analisar uma base de dados denominada de \"Previsão do gênero musical” para atingir o objetivo proposto para o Projeto 2, que era prever uma variável principal em função de demais outras variáveis que podem influenciar em seu comportamento. A base de dados foi obtida na plataforma Kaggle e possui um conjunto de informações fornecidas pelo Spotify. Considerando algumas características de cada música, queremos prever qual será sua popularidade entre os ouvintes. Além disso, tendo em vista que o mercado musical está em constantes transformações, pretendemos responder o seguinte questionamento: como a duração de uma música influencia na popularidade da mesma?\n",
    "\n",
    "Para isso, definimos como Target a variável quantitativa 'popularity' (variável principal e dependente), e como Features, as demais variáveis quantitativas independentes:'danceability', 'energy', 'liveness', 'loudness', 'speechiness', 'duration_s', 'valence'."
   ]
  },
  {
   "cell_type": "code",
   "execution_count": 2,
   "metadata": {},
   "outputs": [],
   "source": [
    "# Importando as bibliotecas que serão utilizadas no projeto\n",
    "\n",
    "%matplotlib inline\n",
    "import pandas as pd\n",
    "import matplotlib.pyplot as plt\n",
    "from numpy import arange\n",
    "import numpy as np\n",
    "import statsmodels.api as sm\n",
    "import seaborn as sns"
   ]
  },
  {
   "cell_type": "markdown",
   "metadata": {},
   "source": [
    "### Limpeza da base de dados :\n"
   ]
  },
  {
   "cell_type": "markdown",
   "metadata": {},
   "source": [
    "Com a finalidade de obter resultados mais concisos e diminuir o número de registros, realizamos uma limpeza inicial removendo algumas variáveis \"indesejáveis\", que não condizem com o objetivo do projeto.\n",
    "\n",
    "Por isso usamos a função `drop` para retirar do data frame as colunas: 'instance_id', 'key', 'acousticness', 'mode', 'instrumentalness' e 'obtained_date'. De forma que passamos de 18 colunas para 12."
   ]
  },
  {
   "cell_type": "code",
   "execution_count": 3,
   "metadata": {},
   "outputs": [
    {
     "data": {
      "text/html": [
       "<div>\n",
       "<style scoped>\n",
       "    .dataframe tbody tr th:only-of-type {\n",
       "        vertical-align: middle;\n",
       "    }\n",
       "\n",
       "    .dataframe tbody tr th {\n",
       "        vertical-align: top;\n",
       "    }\n",
       "\n",
       "    .dataframe thead th {\n",
       "        text-align: right;\n",
       "    }\n",
       "</style>\n",
       "<table border=\"1\" class=\"dataframe\">\n",
       "  <thead>\n",
       "    <tr style=\"text-align: right;\">\n",
       "      <th></th>\n",
       "      <th>instance_id</th>\n",
       "      <th>artist_name</th>\n",
       "      <th>track_name</th>\n",
       "      <th>popularity</th>\n",
       "      <th>acousticness</th>\n",
       "      <th>danceability</th>\n",
       "      <th>duration_ms</th>\n",
       "      <th>energy</th>\n",
       "      <th>instrumentalness</th>\n",
       "      <th>key</th>\n",
       "      <th>liveness</th>\n",
       "      <th>loudness</th>\n",
       "      <th>mode</th>\n",
       "      <th>speechiness</th>\n",
       "      <th>tempo</th>\n",
       "      <th>obtained_date</th>\n",
       "      <th>valence</th>\n",
       "      <th>music_genre</th>\n",
       "    </tr>\n",
       "  </thead>\n",
       "  <tbody>\n",
       "    <tr>\n",
       "      <th>0</th>\n",
       "      <td>32894.0</td>\n",
       "      <td>Röyksopp</td>\n",
       "      <td>Röyksopp's Night Out</td>\n",
       "      <td>27.0</td>\n",
       "      <td>0.00468</td>\n",
       "      <td>0.652</td>\n",
       "      <td>-1.0</td>\n",
       "      <td>0.941</td>\n",
       "      <td>0.7920</td>\n",
       "      <td>A#</td>\n",
       "      <td>0.115</td>\n",
       "      <td>-5.201</td>\n",
       "      <td>Minor</td>\n",
       "      <td>0.0748</td>\n",
       "      <td>100.889</td>\n",
       "      <td>4-Apr</td>\n",
       "      <td>0.759</td>\n",
       "      <td>Electronic</td>\n",
       "    </tr>\n",
       "    <tr>\n",
       "      <th>1</th>\n",
       "      <td>46652.0</td>\n",
       "      <td>Thievery Corporation</td>\n",
       "      <td>The Shining Path</td>\n",
       "      <td>31.0</td>\n",
       "      <td>0.01270</td>\n",
       "      <td>0.622</td>\n",
       "      <td>218293.0</td>\n",
       "      <td>0.890</td>\n",
       "      <td>0.9500</td>\n",
       "      <td>D</td>\n",
       "      <td>0.124</td>\n",
       "      <td>-7.043</td>\n",
       "      <td>Minor</td>\n",
       "      <td>0.0300</td>\n",
       "      <td>115.00200000000001</td>\n",
       "      <td>4-Apr</td>\n",
       "      <td>0.531</td>\n",
       "      <td>Electronic</td>\n",
       "    </tr>\n",
       "    <tr>\n",
       "      <th>2</th>\n",
       "      <td>30097.0</td>\n",
       "      <td>Dillon Francis</td>\n",
       "      <td>Hurricane</td>\n",
       "      <td>28.0</td>\n",
       "      <td>0.00306</td>\n",
       "      <td>0.620</td>\n",
       "      <td>215613.0</td>\n",
       "      <td>0.755</td>\n",
       "      <td>0.0118</td>\n",
       "      <td>G#</td>\n",
       "      <td>0.534</td>\n",
       "      <td>-4.617</td>\n",
       "      <td>Major</td>\n",
       "      <td>0.0345</td>\n",
       "      <td>127.994</td>\n",
       "      <td>4-Apr</td>\n",
       "      <td>0.333</td>\n",
       "      <td>Electronic</td>\n",
       "    </tr>\n",
       "  </tbody>\n",
       "</table>\n",
       "</div>"
      ],
      "text/plain": [
       "   instance_id           artist_name            track_name  popularity  \\\n",
       "0      32894.0              Röyksopp  Röyksopp's Night Out        27.0   \n",
       "1      46652.0  Thievery Corporation      The Shining Path        31.0   \n",
       "2      30097.0        Dillon Francis             Hurricane        28.0   \n",
       "\n",
       "   acousticness  danceability  duration_ms  energy  instrumentalness key  \\\n",
       "0       0.00468         0.652         -1.0   0.941            0.7920  A#   \n",
       "1       0.01270         0.622     218293.0   0.890            0.9500   D   \n",
       "2       0.00306         0.620     215613.0   0.755            0.0118  G#   \n",
       "\n",
       "   liveness  loudness   mode  speechiness               tempo obtained_date  \\\n",
       "0     0.115    -5.201  Minor       0.0748             100.889         4-Apr   \n",
       "1     0.124    -7.043  Minor       0.0300  115.00200000000001         4-Apr   \n",
       "2     0.534    -4.617  Major       0.0345             127.994         4-Apr   \n",
       "\n",
       "   valence music_genre  \n",
       "0    0.759  Electronic  \n",
       "1    0.531  Electronic  \n",
       "2    0.333  Electronic  "
      ]
     },
     "execution_count": 3,
     "metadata": {},
     "output_type": "execute_result"
    }
   ],
   "source": [
    "dados = pd.read_csv('music_genre.csv') # Realizando a leitura do dataframe\n",
    "dados.head(3)"
   ]
  },
  {
   "cell_type": "code",
   "execution_count": 4,
   "metadata": {
    "scrolled": true
   },
   "outputs": [
    {
     "data": {
      "text/html": [
       "<div>\n",
       "<style scoped>\n",
       "    .dataframe tbody tr th:only-of-type {\n",
       "        vertical-align: middle;\n",
       "    }\n",
       "\n",
       "    .dataframe tbody tr th {\n",
       "        vertical-align: top;\n",
       "    }\n",
       "\n",
       "    .dataframe thead th {\n",
       "        text-align: right;\n",
       "    }\n",
       "</style>\n",
       "<table border=\"1\" class=\"dataframe\">\n",
       "  <thead>\n",
       "    <tr style=\"text-align: right;\">\n",
       "      <th></th>\n",
       "      <th>artist_name</th>\n",
       "      <th>track_name</th>\n",
       "      <th>popularity</th>\n",
       "      <th>danceability</th>\n",
       "      <th>duration_ms</th>\n",
       "      <th>energy</th>\n",
       "      <th>liveness</th>\n",
       "      <th>loudness</th>\n",
       "      <th>speechiness</th>\n",
       "      <th>valence</th>\n",
       "      <th>music_genre</th>\n",
       "    </tr>\n",
       "  </thead>\n",
       "  <tbody>\n",
       "    <tr>\n",
       "      <th>0</th>\n",
       "      <td>Röyksopp</td>\n",
       "      <td>Röyksopp's Night Out</td>\n",
       "      <td>27.0</td>\n",
       "      <td>0.652</td>\n",
       "      <td>-1.0</td>\n",
       "      <td>0.941</td>\n",
       "      <td>0.115</td>\n",
       "      <td>-5.201</td>\n",
       "      <td>0.0748</td>\n",
       "      <td>0.759</td>\n",
       "      <td>Electronic</td>\n",
       "    </tr>\n",
       "    <tr>\n",
       "      <th>1</th>\n",
       "      <td>Thievery Corporation</td>\n",
       "      <td>The Shining Path</td>\n",
       "      <td>31.0</td>\n",
       "      <td>0.622</td>\n",
       "      <td>218293.0</td>\n",
       "      <td>0.890</td>\n",
       "      <td>0.124</td>\n",
       "      <td>-7.043</td>\n",
       "      <td>0.0300</td>\n",
       "      <td>0.531</td>\n",
       "      <td>Electronic</td>\n",
       "    </tr>\n",
       "    <tr>\n",
       "      <th>2</th>\n",
       "      <td>Dillon Francis</td>\n",
       "      <td>Hurricane</td>\n",
       "      <td>28.0</td>\n",
       "      <td>0.620</td>\n",
       "      <td>215613.0</td>\n",
       "      <td>0.755</td>\n",
       "      <td>0.534</td>\n",
       "      <td>-4.617</td>\n",
       "      <td>0.0345</td>\n",
       "      <td>0.333</td>\n",
       "      <td>Electronic</td>\n",
       "    </tr>\n",
       "  </tbody>\n",
       "</table>\n",
       "</div>"
      ],
      "text/plain": [
       "            artist_name            track_name  popularity  danceability  \\\n",
       "0              Röyksopp  Röyksopp's Night Out        27.0         0.652   \n",
       "1  Thievery Corporation      The Shining Path        31.0         0.622   \n",
       "2        Dillon Francis             Hurricane        28.0         0.620   \n",
       "\n",
       "   duration_ms  energy  liveness  loudness  speechiness  valence music_genre  \n",
       "0         -1.0   0.941     0.115    -5.201       0.0748    0.759  Electronic  \n",
       "1     218293.0   0.890     0.124    -7.043       0.0300    0.531  Electronic  \n",
       "2     215613.0   0.755     0.534    -4.617       0.0345    0.333  Electronic  "
      ]
     },
     "execution_count": 4,
     "metadata": {},
     "output_type": "execute_result"
    }
   ],
   "source": [
    "# Removendo variáveis que não interessam\n",
    "dados = dados.drop(['instance_id','key','acousticness','mode','instrumentalness','obtained_date', 'tempo'], axis=1)\n",
    "dados.head(3)"
   ]
  },
  {
   "cell_type": "markdown",
   "metadata": {},
   "source": [
    "Em seguida, transformamos a coluna que contém a duração de cada música de milissegundos para segundos, para facilitar a interpretação dos seus valores."
   ]
  },
  {
   "cell_type": "code",
   "execution_count": 5,
   "metadata": {},
   "outputs": [
    {
     "data": {
      "text/html": [
       "<div>\n",
       "<style scoped>\n",
       "    .dataframe tbody tr th:only-of-type {\n",
       "        vertical-align: middle;\n",
       "    }\n",
       "\n",
       "    .dataframe tbody tr th {\n",
       "        vertical-align: top;\n",
       "    }\n",
       "\n",
       "    .dataframe thead th {\n",
       "        text-align: right;\n",
       "    }\n",
       "</style>\n",
       "<table border=\"1\" class=\"dataframe\">\n",
       "  <thead>\n",
       "    <tr style=\"text-align: right;\">\n",
       "      <th></th>\n",
       "      <th>artist_name</th>\n",
       "      <th>track_name</th>\n",
       "      <th>popularity</th>\n",
       "      <th>danceability</th>\n",
       "      <th>energy</th>\n",
       "      <th>liveness</th>\n",
       "      <th>loudness</th>\n",
       "      <th>speechiness</th>\n",
       "      <th>valence</th>\n",
       "      <th>music_genre</th>\n",
       "      <th>duration_s</th>\n",
       "    </tr>\n",
       "  </thead>\n",
       "  <tbody>\n",
       "    <tr>\n",
       "      <th>0</th>\n",
       "      <td>Röyksopp</td>\n",
       "      <td>Röyksopp's Night Out</td>\n",
       "      <td>27.0</td>\n",
       "      <td>0.652</td>\n",
       "      <td>0.941</td>\n",
       "      <td>0.115</td>\n",
       "      <td>-5.201</td>\n",
       "      <td>0.0748</td>\n",
       "      <td>0.759</td>\n",
       "      <td>Electronic</td>\n",
       "      <td>-0.001</td>\n",
       "    </tr>\n",
       "    <tr>\n",
       "      <th>1</th>\n",
       "      <td>Thievery Corporation</td>\n",
       "      <td>The Shining Path</td>\n",
       "      <td>31.0</td>\n",
       "      <td>0.622</td>\n",
       "      <td>0.890</td>\n",
       "      <td>0.124</td>\n",
       "      <td>-7.043</td>\n",
       "      <td>0.0300</td>\n",
       "      <td>0.531</td>\n",
       "      <td>Electronic</td>\n",
       "      <td>218.293</td>\n",
       "    </tr>\n",
       "    <tr>\n",
       "      <th>2</th>\n",
       "      <td>Dillon Francis</td>\n",
       "      <td>Hurricane</td>\n",
       "      <td>28.0</td>\n",
       "      <td>0.620</td>\n",
       "      <td>0.755</td>\n",
       "      <td>0.534</td>\n",
       "      <td>-4.617</td>\n",
       "      <td>0.0345</td>\n",
       "      <td>0.333</td>\n",
       "      <td>Electronic</td>\n",
       "      <td>215.613</td>\n",
       "    </tr>\n",
       "  </tbody>\n",
       "</table>\n",
       "</div>"
      ],
      "text/plain": [
       "            artist_name            track_name  popularity  danceability  \\\n",
       "0              Röyksopp  Röyksopp's Night Out        27.0         0.652   \n",
       "1  Thievery Corporation      The Shining Path        31.0         0.622   \n",
       "2        Dillon Francis             Hurricane        28.0         0.620   \n",
       "\n",
       "   energy  liveness  loudness  speechiness  valence music_genre  duration_s  \n",
       "0   0.941     0.115    -5.201       0.0748    0.759  Electronic      -0.001  \n",
       "1   0.890     0.124    -7.043       0.0300    0.531  Electronic     218.293  \n",
       "2   0.755     0.534    -4.617       0.0345    0.333  Electronic     215.613  "
      ]
     },
     "execution_count": 5,
     "metadata": {},
     "output_type": "execute_result"
    }
   ],
   "source": [
    "# Modificando a coluna 'duration_ms' de milisegundos para segundos:\n",
    "dados['duration_s']= dados.duration_ms/1000\n",
    "dados = dados.drop(['duration_ms'], axis=1)\n",
    "dados.head(3)"
   ]
  },
  {
   "cell_type": "markdown",
   "metadata": {},
   "source": [
    "#### Descrição da base de dados\n",
    "\n",
    "Antes de prosseguir, vamos definir o que cada coluna do dataframe significa:\n",
    "\n",
    "- **artist_name**: nome do artista\n",
    "- **track_name**: nome da música\n",
    "- **popularity**: popularidade\n",
    "- **danceability**: daceabilidade\n",
    "- **energy**: energia\n",
    "- **liveness**: vivacidade\n",
    "- **loudness**: volume (nível de ruído)\n",
    "- **speechiness**: facilidade para fala\n",
    "- **valence**: valencia\n",
    "- **music_genre**: gênero musical ('Electronic', 'Anime', 'Jazz', 'Alternative', 'Country', 'Rap', 'Blues', 'Rock', 'Classical' e 'Hip-Hop') \n",
    "- **duration_s**: duração da música em segundos.\n"
   ]
  },
  {
   "cell_type": "markdown",
   "metadata": {},
   "source": [
    "## Análise Exploratória do Data Frame:"
   ]
  },
  {
   "cell_type": "markdown",
   "metadata": {},
   "source": [
    "Após as manipulações realizadas na base de dados, iniciamos a análise exploratória de suas variáveis a fim de entender suas características, valores e correlações existentes."
   ]
  },
  {
   "cell_type": "markdown",
   "metadata": {},
   "source": [
    "Primeiramente, utilizamos a função `.dtypes` para analisar os tipos de variável de cada coluna. Percebemos que todas as colunas do data frame já estão classificadas como desejamos, sendo “artist_name”, “track_name” e “music_genre”\n",
    "as únicas variáveis qualitativas.\n"
   ]
  },
  {
   "cell_type": "code",
   "execution_count": 6,
   "metadata": {},
   "outputs": [
    {
     "data": {
      "text/plain": [
       "artist_name      object\n",
       "track_name       object\n",
       "popularity      float64\n",
       "danceability    float64\n",
       "energy          float64\n",
       "liveness        float64\n",
       "loudness        float64\n",
       "speechiness     float64\n",
       "valence         float64\n",
       "music_genre      object\n",
       "duration_s      float64\n",
       "dtype: object"
      ]
     },
     "execution_count": 6,
     "metadata": {},
     "output_type": "execute_result"
    }
   ],
   "source": [
    "dados.dtypes # Verificando os tipos de cada variável do dataframe"
   ]
  },
  {
   "cell_type": "markdown",
   "metadata": {},
   "source": [
    "#### Medidas resumo"
   ]
  },
  {
   "cell_type": "markdown",
   "metadata": {},
   "source": [
    "Então, foi utilizado o comando `describe()` para gerar estatísticas descritivas da base, incluindo tendência central, média, desvio-padrão (dispersão) e forma da distribuição."
   ]
  },
  {
   "cell_type": "code",
   "execution_count": 6,
   "metadata": {},
   "outputs": [
    {
     "data": {
      "text/html": [
       "<div>\n",
       "<style scoped>\n",
       "    .dataframe tbody tr th:only-of-type {\n",
       "        vertical-align: middle;\n",
       "    }\n",
       "\n",
       "    .dataframe tbody tr th {\n",
       "        vertical-align: top;\n",
       "    }\n",
       "\n",
       "    .dataframe thead th {\n",
       "        text-align: right;\n",
       "    }\n",
       "</style>\n",
       "<table border=\"1\" class=\"dataframe\">\n",
       "  <thead>\n",
       "    <tr style=\"text-align: right;\">\n",
       "      <th></th>\n",
       "      <th>popularity</th>\n",
       "      <th>danceability</th>\n",
       "      <th>energy</th>\n",
       "      <th>liveness</th>\n",
       "      <th>loudness</th>\n",
       "      <th>speechiness</th>\n",
       "      <th>valence</th>\n",
       "      <th>duration_s</th>\n",
       "    </tr>\n",
       "  </thead>\n",
       "  <tbody>\n",
       "    <tr>\n",
       "      <th>count</th>\n",
       "      <td>50000.000000</td>\n",
       "      <td>50000.000000</td>\n",
       "      <td>50000.000000</td>\n",
       "      <td>50000.000000</td>\n",
       "      <td>50000.000000</td>\n",
       "      <td>50000.000000</td>\n",
       "      <td>50000.000000</td>\n",
       "      <td>50000.000000</td>\n",
       "    </tr>\n",
       "    <tr>\n",
       "      <th>mean</th>\n",
       "      <td>44.220420</td>\n",
       "      <td>0.558241</td>\n",
       "      <td>0.599755</td>\n",
       "      <td>0.193896</td>\n",
       "      <td>-9.133761</td>\n",
       "      <td>0.093586</td>\n",
       "      <td>0.456264</td>\n",
       "      <td>221.252603</td>\n",
       "    </tr>\n",
       "    <tr>\n",
       "      <th>std</th>\n",
       "      <td>15.542008</td>\n",
       "      <td>0.178632</td>\n",
       "      <td>0.264559</td>\n",
       "      <td>0.161637</td>\n",
       "      <td>6.162990</td>\n",
       "      <td>0.101373</td>\n",
       "      <td>0.247119</td>\n",
       "      <td>128.671957</td>\n",
       "    </tr>\n",
       "    <tr>\n",
       "      <th>min</th>\n",
       "      <td>0.000000</td>\n",
       "      <td>0.059600</td>\n",
       "      <td>0.000792</td>\n",
       "      <td>0.009670</td>\n",
       "      <td>-47.046000</td>\n",
       "      <td>0.022300</td>\n",
       "      <td>0.000000</td>\n",
       "      <td>-0.001000</td>\n",
       "    </tr>\n",
       "    <tr>\n",
       "      <th>25%</th>\n",
       "      <td>34.000000</td>\n",
       "      <td>0.442000</td>\n",
       "      <td>0.433000</td>\n",
       "      <td>0.096900</td>\n",
       "      <td>-10.860000</td>\n",
       "      <td>0.036100</td>\n",
       "      <td>0.257000</td>\n",
       "      <td>174.800000</td>\n",
       "    </tr>\n",
       "    <tr>\n",
       "      <th>50%</th>\n",
       "      <td>45.000000</td>\n",
       "      <td>0.568000</td>\n",
       "      <td>0.643000</td>\n",
       "      <td>0.126000</td>\n",
       "      <td>-7.276500</td>\n",
       "      <td>0.048900</td>\n",
       "      <td>0.448000</td>\n",
       "      <td>219.281000</td>\n",
       "    </tr>\n",
       "    <tr>\n",
       "      <th>75%</th>\n",
       "      <td>56.000000</td>\n",
       "      <td>0.687000</td>\n",
       "      <td>0.815000</td>\n",
       "      <td>0.244000</td>\n",
       "      <td>-5.173000</td>\n",
       "      <td>0.098525</td>\n",
       "      <td>0.648000</td>\n",
       "      <td>268.612250</td>\n",
       "    </tr>\n",
       "    <tr>\n",
       "      <th>max</th>\n",
       "      <td>99.000000</td>\n",
       "      <td>0.986000</td>\n",
       "      <td>0.999000</td>\n",
       "      <td>1.000000</td>\n",
       "      <td>3.744000</td>\n",
       "      <td>0.942000</td>\n",
       "      <td>0.992000</td>\n",
       "      <td>4830.606000</td>\n",
       "    </tr>\n",
       "  </tbody>\n",
       "</table>\n",
       "</div>"
      ],
      "text/plain": [
       "         popularity  danceability        energy      liveness      loudness  \\\n",
       "count  50000.000000  50000.000000  50000.000000  50000.000000  50000.000000   \n",
       "mean      44.220420      0.558241      0.599755      0.193896     -9.133761   \n",
       "std       15.542008      0.178632      0.264559      0.161637      6.162990   \n",
       "min        0.000000      0.059600      0.000792      0.009670    -47.046000   \n",
       "25%       34.000000      0.442000      0.433000      0.096900    -10.860000   \n",
       "50%       45.000000      0.568000      0.643000      0.126000     -7.276500   \n",
       "75%       56.000000      0.687000      0.815000      0.244000     -5.173000   \n",
       "max       99.000000      0.986000      0.999000      1.000000      3.744000   \n",
       "\n",
       "        speechiness       valence    duration_s  \n",
       "count  50000.000000  50000.000000  50000.000000  \n",
       "mean       0.093586      0.456264    221.252603  \n",
       "std        0.101373      0.247119    128.671957  \n",
       "min        0.022300      0.000000     -0.001000  \n",
       "25%        0.036100      0.257000    174.800000  \n",
       "50%        0.048900      0.448000    219.281000  \n",
       "75%        0.098525      0.648000    268.612250  \n",
       "max        0.942000      0.992000   4830.606000  "
      ]
     },
     "execution_count": 6,
     "metadata": {},
     "output_type": "execute_result"
    }
   ],
   "source": [
    "dados.describe()"
   ]
  },
  {
   "cell_type": "markdown",
   "metadata": {},
   "source": [
    "Nota-se que a coluna principal \"popularity\" possui valores de 0 a 99, sendo a média (44.22) bem próxima a mediana (45), indicando uma possível distribuição simétrica."
   ]
  },
  {
   "cell_type": "markdown",
   "metadata": {},
   "source": [
    "#### Correlações entre variável Target (popularidade) e variáveis Features"
   ]
  },
  {
   "cell_type": "markdown",
   "metadata": {},
   "source": [
    "Com a finalidade de estudar as relações entre cada uma das variáveis quantitativas da base de dados, calculamos suas respectivas correlações, e em seguida, fizemos gráficos de dispersão para cada uma delas."
   ]
  },
  {
   "cell_type": "code",
   "execution_count": 7,
   "metadata": {},
   "outputs": [
    {
     "data": {
      "text/html": [
       "<div>\n",
       "<style scoped>\n",
       "    .dataframe tbody tr th:only-of-type {\n",
       "        vertical-align: middle;\n",
       "    }\n",
       "\n",
       "    .dataframe tbody tr th {\n",
       "        vertical-align: top;\n",
       "    }\n",
       "\n",
       "    .dataframe thead th {\n",
       "        text-align: right;\n",
       "    }\n",
       "</style>\n",
       "<table border=\"1\" class=\"dataframe\">\n",
       "  <thead>\n",
       "    <tr style=\"text-align: right;\">\n",
       "      <th></th>\n",
       "      <th>Corr</th>\n",
       "    </tr>\n",
       "  </thead>\n",
       "  <tbody>\n",
       "    <tr>\n",
       "      <th>danceability</th>\n",
       "      <td>0.356420</td>\n",
       "    </tr>\n",
       "    <tr>\n",
       "      <th>energy</th>\n",
       "      <td>0.216345</td>\n",
       "    </tr>\n",
       "    <tr>\n",
       "      <th>liveness</th>\n",
       "      <td>-0.039468</td>\n",
       "    </tr>\n",
       "    <tr>\n",
       "      <th>loudness</th>\n",
       "      <td>0.317941</td>\n",
       "    </tr>\n",
       "    <tr>\n",
       "      <th>speechiness</th>\n",
       "      <td>0.224309</td>\n",
       "    </tr>\n",
       "    <tr>\n",
       "      <th>duration_s</th>\n",
       "      <td>-0.083809</td>\n",
       "    </tr>\n",
       "    <tr>\n",
       "      <th>valence</th>\n",
       "      <td>0.124913</td>\n",
       "    </tr>\n",
       "  </tbody>\n",
       "</table>\n",
       "</div>"
      ],
      "text/plain": [
       "                  Corr\n",
       "danceability  0.356420\n",
       "energy        0.216345\n",
       "liveness     -0.039468\n",
       "loudness      0.317941\n",
       "speechiness   0.224309\n",
       "duration_s   -0.083809\n",
       "valence       0.124913"
      ]
     },
     "execution_count": 7,
     "metadata": {},
     "output_type": "execute_result"
    }
   ],
   "source": [
    "dicionario = {'Corr': [dados['popularity'].corr(dados['danceability']), dados['popularity'].corr(dados['energy']),dados['popularity'].corr(dados['liveness']),dados['popularity'].corr(dados['loudness']),\n",
    "dados['popularity'].corr(dados['speechiness']),dados['popularity'].corr(dados['duration_s']),dados['popularity'].corr(dados['valence'])]}\n",
    "\n",
    "correlacoes = pd.DataFrame(dicionario, index=[\"danceability\",\"energy\",\"liveness\",\"loudness\",\"speechiness\",\"duration_s\",\"valence\"])\n",
    "correlacoes"
   ]
  },
  {
   "cell_type": "markdown",
   "metadata": {},
   "source": [
    "#### Gráficos de dispersão - Target X Features"
   ]
  },
  {
   "cell_type": "code",
   "execution_count": 1,
   "metadata": {},
   "outputs": [
    {
     "ename": "NameError",
     "evalue": "name 'plt' is not defined",
     "output_type": "error",
     "traceback": [
      "\u001b[1;31m---------------------------------------------------------------------------\u001b[0m",
      "\u001b[1;31mNameError\u001b[0m                                 Traceback (most recent call last)",
      "\u001b[1;32m<ipython-input-1-2b5a1084bea1>\u001b[0m in \u001b[0;36m<module>\u001b[1;34m\u001b[0m\n\u001b[1;32m----> 1\u001b[1;33m \u001b[0mplt\u001b[0m\u001b[1;33m.\u001b[0m\u001b[0mfigure\u001b[0m\u001b[1;33m(\u001b[0m\u001b[0mfigsize\u001b[0m\u001b[1;33m=\u001b[0m\u001b[1;33m(\u001b[0m\u001b[1;36m20\u001b[0m\u001b[1;33m,\u001b[0m \u001b[1;36m20\u001b[0m\u001b[1;33m)\u001b[0m\u001b[1;33m)\u001b[0m\u001b[1;33m\u001b[0m\u001b[1;33m\u001b[0m\u001b[0m\n\u001b[0m\u001b[0;32m      2\u001b[0m \u001b[1;33m\u001b[0m\u001b[0m\n\u001b[0;32m      3\u001b[0m \u001b[0mplt\u001b[0m\u001b[1;33m.\u001b[0m\u001b[0msubplot\u001b[0m\u001b[1;33m(\u001b[0m\u001b[1;36m331\u001b[0m\u001b[1;33m)\u001b[0m\u001b[1;33m\u001b[0m\u001b[1;33m\u001b[0m\u001b[0m\n\u001b[0;32m      4\u001b[0m \u001b[0mplt\u001b[0m\u001b[1;33m.\u001b[0m\u001b[0mscatter\u001b[0m\u001b[1;33m(\u001b[0m\u001b[0mdados\u001b[0m\u001b[1;33m.\u001b[0m\u001b[0mdanceability\u001b[0m\u001b[1;33m,\u001b[0m \u001b[0mdados\u001b[0m\u001b[1;33m.\u001b[0m\u001b[0mpopularity\u001b[0m\u001b[1;33m,\u001b[0m \u001b[0mc\u001b[0m\u001b[1;33m=\u001b[0m\u001b[1;34m'red'\u001b[0m\u001b[1;33m,\u001b[0m \u001b[0malpha\u001b[0m\u001b[1;33m=\u001b[0m\u001b[1;36m0.4\u001b[0m\u001b[1;33m)\u001b[0m\u001b[1;33m\u001b[0m\u001b[1;33m\u001b[0m\u001b[0m\n\u001b[0;32m      5\u001b[0m \u001b[0mplt\u001b[0m\u001b[1;33m.\u001b[0m\u001b[0mtitle\u001b[0m\u001b[1;33m(\u001b[0m\u001b[1;34m'Popularidade x Danceabilidade'\u001b[0m\u001b[1;33m)\u001b[0m\u001b[1;33m\u001b[0m\u001b[1;33m\u001b[0m\u001b[0m\n",
      "\u001b[1;31mNameError\u001b[0m: name 'plt' is not defined"
     ]
    }
   ],
   "source": [
    "plt.figure(figsize=(20, 20))\n",
    "\n",
    "plt.subplot(331)\n",
    "plt.scatter(dados.danceability, dados.popularity, c='red', alpha=0.4) \n",
    "plt.title('Popularidade x Danceabilidade')\n",
    "plt.xlabel('Danceabilidade ')\n",
    "plt.ylabel('Popularidade')\n",
    "plt.grid(True)\n",
    "\n",
    "plt.subplot(332)\n",
    "plt.scatter(dados.energy, dados.popularity, c='red', alpha=0.4) \n",
    "plt.title('Popularidade x Energia')\n",
    "plt.xlabel('Energia ')\n",
    "plt.ylabel('Popularidade')\n",
    "plt.grid(True)\n",
    "\n",
    "plt.subplot(333)\n",
    "plt.scatter(dados.liveness, dados.popularity, c='red', alpha=0.4) \n",
    "plt.title('Popularidade x Vivacidade')\n",
    "plt.xlabel('Vivacidade')\n",
    "plt.ylabel('Popularidade')\n",
    "plt.grid(True)\n",
    "\n",
    "plt.subplot(334)\n",
    "plt.scatter(dados.loudness, dados.popularity, c='red', alpha=0.4) \n",
    "plt.title('Popularidade x Volume')\n",
    "plt.xlabel('Volume')\n",
    "plt.ylabel('Popularidade')\n",
    "plt.grid(True)\n",
    "\n",
    "plt.subplot(335)\n",
    "plt.scatter(dados.speechiness, dados.popularity, c='red', alpha=0.4) \n",
    "plt.title('Popularidade x Speechiness')\n",
    "plt.xlabel('Speechiness')\n",
    "plt.ylabel('Popularidade')\n",
    "plt.grid(True)\n",
    "\n",
    "plt.subplot(336)\n",
    "plt.scatter(dados.duration_s, dados.popularity, c='red', alpha=0.4) \n",
    "plt.title('Popularidade x Duração')\n",
    "plt.xlabel('Duração')\n",
    "plt.ylabel('Popularidade')\n",
    "plt.xlim([0,1500])\n",
    "plt.grid(True)\n",
    "\n",
    "plt.subplot(337)\n",
    "plt.scatter(dados.valence, dados.popularity, c='red', alpha=0.4) \n",
    "plt.title('Popularidade x Valencia')\n",
    "plt.xlabel('Valencia')\n",
    "plt.ylabel('Popularidade')\n",
    "plt.grid(True)\n",
    "plt.show() "
   ]
  },
  {
   "cell_type": "markdown",
   "metadata": {},
   "source": [
    "A partir dos gráficos pode-se concluir que a relação entre:\n",
    "\n",
    "- **Popularidade x Danceabilidade**: relação moderada - quanto maior a danceabilidade, maior a popularidade\n",
    "- **Popularidade x Energia**: sem relação significante\n",
    "- **Popularidade x Vivacidade**: sem relação significante\n",
    "- **Popularidade x Volume**: relação moderada - quanto maior o volume, maior a popularidade\n",
    "- **Popularidade x Speechiness**: quanto maior o Speechiness, menor a popularidade\n",
    "- **Popularidade x Duração**: quanto maior a duração de uma música, menor sua popularidade\n",
    "- **Popularidade x Valencia**: sem relação significante"
   ]
  },
  {
   "cell_type": "markdown",
   "metadata": {},
   "source": [
    "#### Tabela de Popularidade por Gêneros:"
   ]
  },
  {
   "cell_type": "markdown",
   "metadata": {},
   "source": [
    "Utilizando a função do pandas `pd.crosstab`, construímos uma tabela que permite analisar a relação entre os gêneros musicais e a popularidade de cada música. Conclui-se que os gêneros mais populares são Rap, Hip Hop e Eletrônico, enquanto que o menos popular é o Clássico."
   ]
  },
  {
   "cell_type": "code",
   "execution_count": 9,
   "metadata": {},
   "outputs": [
    {
     "data": {
      "text/html": [
       "<div>\n",
       "<style scoped>\n",
       "    .dataframe tbody tr th:only-of-type {\n",
       "        vertical-align: middle;\n",
       "    }\n",
       "\n",
       "    .dataframe tbody tr th {\n",
       "        vertical-align: top;\n",
       "    }\n",
       "\n",
       "    .dataframe thead th {\n",
       "        text-align: right;\n",
       "    }\n",
       "</style>\n",
       "<table border=\"1\" class=\"dataframe\">\n",
       "  <thead>\n",
       "    <tr style=\"text-align: right;\">\n",
       "      <th>music_genre</th>\n",
       "      <th>Alternative</th>\n",
       "      <th>Anime</th>\n",
       "      <th>Blues</th>\n",
       "      <th>Classical</th>\n",
       "      <th>Country</th>\n",
       "      <th>Electronic</th>\n",
       "      <th>Hip-Hop</th>\n",
       "      <th>Jazz</th>\n",
       "      <th>Rap</th>\n",
       "      <th>Rock</th>\n",
       "      <th>All</th>\n",
       "    </tr>\n",
       "    <tr>\n",
       "      <th>popularity</th>\n",
       "      <th></th>\n",
       "      <th></th>\n",
       "      <th></th>\n",
       "      <th></th>\n",
       "      <th></th>\n",
       "      <th></th>\n",
       "      <th></th>\n",
       "      <th></th>\n",
       "      <th></th>\n",
       "      <th></th>\n",
       "      <th></th>\n",
       "    </tr>\n",
       "  </thead>\n",
       "  <tbody>\n",
       "    <tr>\n",
       "      <th>0.0</th>\n",
       "      <td>0.010</td>\n",
       "      <td>0.042</td>\n",
       "      <td>0.062</td>\n",
       "      <td>1.082</td>\n",
       "      <td>0.082</td>\n",
       "      <td>0.054</td>\n",
       "      <td>0.000</td>\n",
       "      <td>0.054</td>\n",
       "      <td>0.000</td>\n",
       "      <td>0.002</td>\n",
       "      <td>1.388</td>\n",
       "    </tr>\n",
       "    <tr>\n",
       "      <th>1.0</th>\n",
       "      <td>0.002</td>\n",
       "      <td>0.006</td>\n",
       "      <td>0.006</td>\n",
       "      <td>0.016</td>\n",
       "      <td>0.000</td>\n",
       "      <td>0.000</td>\n",
       "      <td>0.000</td>\n",
       "      <td>0.030</td>\n",
       "      <td>0.000</td>\n",
       "      <td>0.002</td>\n",
       "      <td>0.062</td>\n",
       "    </tr>\n",
       "    <tr>\n",
       "      <th>2.0</th>\n",
       "      <td>0.000</td>\n",
       "      <td>0.006</td>\n",
       "      <td>0.004</td>\n",
       "      <td>0.062</td>\n",
       "      <td>0.000</td>\n",
       "      <td>0.000</td>\n",
       "      <td>0.000</td>\n",
       "      <td>0.030</td>\n",
       "      <td>0.000</td>\n",
       "      <td>0.000</td>\n",
       "      <td>0.102</td>\n",
       "    </tr>\n",
       "    <tr>\n",
       "      <th>3.0</th>\n",
       "      <td>0.000</td>\n",
       "      <td>0.002</td>\n",
       "      <td>0.006</td>\n",
       "      <td>0.056</td>\n",
       "      <td>0.000</td>\n",
       "      <td>0.002</td>\n",
       "      <td>0.000</td>\n",
       "      <td>0.016</td>\n",
       "      <td>0.000</td>\n",
       "      <td>0.004</td>\n",
       "      <td>0.086</td>\n",
       "    </tr>\n",
       "    <tr>\n",
       "      <th>4.0</th>\n",
       "      <td>0.000</td>\n",
       "      <td>0.008</td>\n",
       "      <td>0.006</td>\n",
       "      <td>0.062</td>\n",
       "      <td>0.000</td>\n",
       "      <td>0.000</td>\n",
       "      <td>0.000</td>\n",
       "      <td>0.008</td>\n",
       "      <td>0.000</td>\n",
       "      <td>0.000</td>\n",
       "      <td>0.084</td>\n",
       "    </tr>\n",
       "    <tr>\n",
       "      <th>...</th>\n",
       "      <td>...</td>\n",
       "      <td>...</td>\n",
       "      <td>...</td>\n",
       "      <td>...</td>\n",
       "      <td>...</td>\n",
       "      <td>...</td>\n",
       "      <td>...</td>\n",
       "      <td>...</td>\n",
       "      <td>...</td>\n",
       "      <td>...</td>\n",
       "      <td>...</td>\n",
       "    </tr>\n",
       "    <tr>\n",
       "      <th>95.0</th>\n",
       "      <td>0.000</td>\n",
       "      <td>0.000</td>\n",
       "      <td>0.000</td>\n",
       "      <td>0.000</td>\n",
       "      <td>0.000</td>\n",
       "      <td>0.000</td>\n",
       "      <td>0.004</td>\n",
       "      <td>0.000</td>\n",
       "      <td>0.000</td>\n",
       "      <td>0.000</td>\n",
       "      <td>0.004</td>\n",
       "    </tr>\n",
       "    <tr>\n",
       "      <th>96.0</th>\n",
       "      <td>0.000</td>\n",
       "      <td>0.000</td>\n",
       "      <td>0.000</td>\n",
       "      <td>0.000</td>\n",
       "      <td>0.000</td>\n",
       "      <td>0.002</td>\n",
       "      <td>0.002</td>\n",
       "      <td>0.000</td>\n",
       "      <td>0.000</td>\n",
       "      <td>0.000</td>\n",
       "      <td>0.004</td>\n",
       "    </tr>\n",
       "    <tr>\n",
       "      <th>97.0</th>\n",
       "      <td>0.000</td>\n",
       "      <td>0.000</td>\n",
       "      <td>0.000</td>\n",
       "      <td>0.000</td>\n",
       "      <td>0.000</td>\n",
       "      <td>0.000</td>\n",
       "      <td>0.000</td>\n",
       "      <td>0.000</td>\n",
       "      <td>0.002</td>\n",
       "      <td>0.000</td>\n",
       "      <td>0.002</td>\n",
       "    </tr>\n",
       "    <tr>\n",
       "      <th>99.0</th>\n",
       "      <td>0.000</td>\n",
       "      <td>0.000</td>\n",
       "      <td>0.000</td>\n",
       "      <td>0.000</td>\n",
       "      <td>0.000</td>\n",
       "      <td>0.000</td>\n",
       "      <td>0.000</td>\n",
       "      <td>0.000</td>\n",
       "      <td>0.002</td>\n",
       "      <td>0.000</td>\n",
       "      <td>0.002</td>\n",
       "    </tr>\n",
       "    <tr>\n",
       "      <th>All</th>\n",
       "      <td>10.000</td>\n",
       "      <td>10.000</td>\n",
       "      <td>10.000</td>\n",
       "      <td>10.000</td>\n",
       "      <td>10.000</td>\n",
       "      <td>10.000</td>\n",
       "      <td>10.000</td>\n",
       "      <td>10.000</td>\n",
       "      <td>10.000</td>\n",
       "      <td>10.000</td>\n",
       "      <td>100.000</td>\n",
       "    </tr>\n",
       "  </tbody>\n",
       "</table>\n",
       "<p>100 rows × 11 columns</p>\n",
       "</div>"
      ],
      "text/plain": [
       "music_genre  Alternative   Anime   Blues  Classical  Country  Electronic  \\\n",
       "popularity                                                                 \n",
       "0.0                0.010   0.042   0.062      1.082    0.082       0.054   \n",
       "1.0                0.002   0.006   0.006      0.016    0.000       0.000   \n",
       "2.0                0.000   0.006   0.004      0.062    0.000       0.000   \n",
       "3.0                0.000   0.002   0.006      0.056    0.000       0.002   \n",
       "4.0                0.000   0.008   0.006      0.062    0.000       0.000   \n",
       "...                  ...     ...     ...        ...      ...         ...   \n",
       "95.0               0.000   0.000   0.000      0.000    0.000       0.000   \n",
       "96.0               0.000   0.000   0.000      0.000    0.000       0.002   \n",
       "97.0               0.000   0.000   0.000      0.000    0.000       0.000   \n",
       "99.0               0.000   0.000   0.000      0.000    0.000       0.000   \n",
       "All               10.000  10.000  10.000     10.000   10.000      10.000   \n",
       "\n",
       "music_genre  Hip-Hop    Jazz     Rap    Rock      All  \n",
       "popularity                                             \n",
       "0.0            0.000   0.054   0.000   0.002    1.388  \n",
       "1.0            0.000   0.030   0.000   0.002    0.062  \n",
       "2.0            0.000   0.030   0.000   0.000    0.102  \n",
       "3.0            0.000   0.016   0.000   0.004    0.086  \n",
       "4.0            0.000   0.008   0.000   0.000    0.084  \n",
       "...              ...     ...     ...     ...      ...  \n",
       "95.0           0.004   0.000   0.000   0.000    0.004  \n",
       "96.0           0.002   0.000   0.000   0.000    0.004  \n",
       "97.0           0.000   0.000   0.002   0.000    0.002  \n",
       "99.0           0.000   0.000   0.002   0.000    0.002  \n",
       "All           10.000  10.000  10.000  10.000  100.000  \n",
       "\n",
       "[100 rows x 11 columns]"
      ]
     },
     "execution_count": 9,
     "metadata": {},
     "output_type": "execute_result"
    }
   ],
   "source": [
    "pd.crosstab(dados['popularity'], dados['music_genre'],normalize=True,margins=True)*100"
   ]
  },
  {
   "cell_type": "markdown",
   "metadata": {},
   "source": [
    "#### Histograma de popularidade"
   ]
  },
  {
   "cell_type": "markdown",
   "metadata": {},
   "source": [
    "Para finalizar nossa análise exploratória da base de dados, construímos um histograma da nossa variável target: a popularidade. Pode-se perceber que a maior concentração de ocorrências está no intervalo de 30 a 60, seguindo uma distribuição quase aparentemente simétrica."
   ]
  },
  {
   "cell_type": "code",
   "execution_count": 10,
   "metadata": {},
   "outputs": [
    {
     "data": {
      "image/png": "[encoded data removed]",
      "text/plain": [
       "<Figure size 1080x360 with 1 Axes>"
      ]
     },
     "metadata": {
      "needs_background": "light"
     },
     "output_type": "display_data"
    }
   ],
   "source": [
    "plt.figure(figsize=(15, 5))\n",
    "\n",
    "plt.subplot(121)\n",
    "plt.hist(dados.popularity, edgecolor='white', density=True)\n",
    "plt.title('Histograma da Popularidade')\n",
    "plt.xlabel('Popularidade')\n",
    "plt.ylabel('Frequência')\n",
    "plt.show()"
   ]
  },
  {
   "cell_type": "markdown",
   "metadata": {},
   "source": [
    "## Modelos de Predição"
   ]
  },
  {
   "cell_type": "markdown",
   "metadata": {},
   "source": [
    "A regressão é uma técnica comum de aprendizado de máquina usada para prever um valor real, como o preço de uma casa com base em um conjunto de características. "
   ]
  },
  {
   "cell_type": "code",
   "execution_count": 11,
   "metadata": {},
   "outputs": [],
   "source": [
    "dados = dados.dropna()"
   ]
  },
  {
   "cell_type": "code",
   "execution_count": 12,
   "metadata": {},
   "outputs": [],
   "source": [
    "# Definindo variáveis features [X] e target [Y]\n",
    "X = dados[['danceability', 'energy', 'liveness', 'loudness', 'duration_s']]\n",
    "Y = dados['popularity']"
   ]
  },
  {
   "cell_type": "markdown",
   "metadata": {},
   "source": [
    "### Regressão Linear Múltipla "
   ]
  },
  {
   "cell_type": "markdown",
   "metadata": {},
   "source": [
    "A regressão linear múltipla é um modelo que captura a relação linear entre duas ou mais  variáveis, uma rotulada como variável dependente e as outras rotuladas como variáveis independentes. Existe uma relação linear quando se aumenta ou diminui a variável  independente resultando em um aumento ou diminuição correspondente da variável dependente. Sendo assim uma relação de causa e consequência entre uma variável (target) e as demais (features)"
   ]
  },
  {
   "cell_type": "code",
   "execution_count": 13,
   "metadata": {},
   "outputs": [],
   "source": [
    "# Função para fazer a regressão com constante adicionada\n",
    "def regress(Y,X):\n",
    "    '''\n",
    "    Y: coluna do DataFrame utilizada como variável resposta (TARGET)\n",
    "    X: coluna(s) do DataFrame utilizadas como variável(is) explicativas (FEATURES)\n",
    "    '''\n",
    "    X_cp = sm.add_constant(X)\n",
    "    model = sm.OLS(Y,X_cp)\n",
    "    results = model.fit()\n",
    "    \n",
    "    return results"
   ]
  },
  {
   "cell_type": "code",
   "execution_count": 14,
   "metadata": {},
   "outputs": [
    {
     "data": {
      "text/html": [
       "<table class=\"simpletable\">\n",
       "<caption>OLS Regression Results</caption>\n",
       "<tr>\n",
       "  <th>Dep. Variable:</th>       <td>popularity</td>    <th>  R-squared:         </th>  <td>   0.171</td>  \n",
       "</tr>\n",
       "<tr>\n",
       "  <th>Model:</th>                   <td>OLS</td>       <th>  Adj. R-squared:    </th>  <td>   0.171</td>  \n",
       "</tr>\n",
       "<tr>\n",
       "  <th>Method:</th>             <td>Least Squares</td>  <th>  F-statistic:       </th>  <td>   2058.</td>  \n",
       "</tr>\n",
       "<tr>\n",
       "  <th>Date:</th>             <td>Tue, 30 Nov 2021</td> <th>  Prob (F-statistic):</th>   <td>  0.00</td>   \n",
       "</tr>\n",
       "<tr>\n",
       "  <th>Time:</th>                 <td>16:13:35</td>     <th>  Log-Likelihood:    </th> <td>-2.0344e+05</td>\n",
       "</tr>\n",
       "<tr>\n",
       "  <th>No. Observations:</th>      <td> 50000</td>      <th>  AIC:               </th>  <td>4.069e+05</td> \n",
       "</tr>\n",
       "<tr>\n",
       "  <th>Df Residuals:</th>          <td> 49994</td>      <th>  BIC:               </th>  <td>4.070e+05</td> \n",
       "</tr>\n",
       "<tr>\n",
       "  <th>Df Model:</th>              <td>     5</td>      <th>                     </th>      <td> </td>     \n",
       "</tr>\n",
       "<tr>\n",
       "  <th>Covariance Type:</th>      <td>nonrobust</td>    <th>                     </th>      <td> </td>     \n",
       "</tr>\n",
       "</table>\n",
       "<table class=\"simpletable\">\n",
       "<tr>\n",
       "        <td></td>          <th>coef</th>     <th>std err</th>      <th>t</th>      <th>P>|t|</th>  <th>[0.025</th>    <th>0.975]</th>  \n",
       "</tr>\n",
       "<tr>\n",
       "  <th>const</th>        <td>   43.5317</td> <td>    0.541</td> <td>   80.450</td> <td> 0.000</td> <td>   42.471</td> <td>   44.592</td>\n",
       "</tr>\n",
       "<tr>\n",
       "  <th>danceability</th> <td>   22.4985</td> <td>    0.393</td> <td>   57.293</td> <td> 0.000</td> <td>   21.729</td> <td>   23.268</td>\n",
       "</tr>\n",
       "<tr>\n",
       "  <th>energy</th>       <td>   -5.8704</td> <td>    0.447</td> <td>  -13.137</td> <td> 0.000</td> <td>   -6.746</td> <td>   -4.995</td>\n",
       "</tr>\n",
       "<tr>\n",
       "  <th>liveness</th>     <td>   -4.3914</td> <td>    0.401</td> <td>  -10.949</td> <td> 0.000</td> <td>   -5.177</td> <td>   -3.605</td>\n",
       "</tr>\n",
       "<tr>\n",
       "  <th>loudness</th>     <td>    0.7681</td> <td>    0.020</td> <td>   38.536</td> <td> 0.000</td> <td>    0.729</td> <td>    0.807</td>\n",
       "</tr>\n",
       "<tr>\n",
       "  <th>duration_s</th>   <td>   -0.0022</td> <td>    0.000</td> <td>   -4.379</td> <td> 0.000</td> <td>   -0.003</td> <td>   -0.001</td>\n",
       "</tr>\n",
       "</table>\n",
       "<table class=\"simpletable\">\n",
       "<tr>\n",
       "  <th>Omnibus:</th>       <td>570.193</td> <th>  Durbin-Watson:     </th> <td>   1.037</td> \n",
       "</tr>\n",
       "<tr>\n",
       "  <th>Prob(Omnibus):</th> <td> 0.000</td>  <th>  Jarque-Bera (JB):  </th> <td> 589.447</td> \n",
       "</tr>\n",
       "<tr>\n",
       "  <th>Skew:</th>          <td>-0.265</td>  <th>  Prob(JB):          </th> <td>1.01e-128</td>\n",
       "</tr>\n",
       "<tr>\n",
       "  <th>Kurtosis:</th>      <td> 2.959</td>  <th>  Cond. No.          </th> <td>2.81e+03</td> \n",
       "</tr>\n",
       "</table><br/><br/>Notes:<br/>[1] Standard Errors assume that the covariance matrix of the errors is correctly specified.<br/>[2] The condition number is large, 2.81e+03. This might indicate that there are<br/>strong multicollinearity or other numerical problems."
      ],
      "text/plain": [
       "<class 'statsmodels.iolib.summary.Summary'>\n",
       "\"\"\"\n",
       "                            OLS Regression Results                            \n",
       "==============================================================================\n",
       "Dep. Variable:             popularity   R-squared:                       0.171\n",
       "Model:                            OLS   Adj. R-squared:                  0.171\n",
       "Method:                 Least Squares   F-statistic:                     2058.\n",
       "Date:                Tue, 30 Nov 2021   Prob (F-statistic):               0.00\n",
       "Time:                        16:13:35   Log-Likelihood:            -2.0344e+05\n",
       "No. Observations:               50000   AIC:                         4.069e+05\n",
       "Df Residuals:                   49994   BIC:                         4.070e+05\n",
       "Df Model:                           5                                         \n",
       "Covariance Type:            nonrobust                                         \n",
       "================================================================================\n",
       "                   coef    std err          t      P>|t|      [0.025      0.975]\n",
       "--------------------------------------------------------------------------------\n",
       "const           43.5317      0.541     80.450      0.000      42.471      44.592\n",
       "danceability    22.4985      0.393     57.293      0.000      21.729      23.268\n",
       "energy          -5.8704      0.447    -13.137      0.000      -6.746      -4.995\n",
       "liveness        -4.3914      0.401    -10.949      0.000      -5.177      -3.605\n",
       "loudness         0.7681      0.020     38.536      0.000       0.729       0.807\n",
       "duration_s      -0.0022      0.000     -4.379      0.000      -0.003      -0.001\n",
       "==============================================================================\n",
       "Omnibus:                      570.193   Durbin-Watson:                   1.037\n",
       "Prob(Omnibus):                  0.000   Jarque-Bera (JB):              589.447\n",
       "Skew:                          -0.265   Prob(JB):                    1.01e-128\n",
       "Kurtosis:                       2.959   Cond. No.                     2.81e+03\n",
       "==============================================================================\n",
       "\n",
       "Notes:\n",
       "[1] Standard Errors assume that the covariance matrix of the errors is correctly specified.\n",
       "[2] The condition number is large, 2.81e+03. This might indicate that there are\n",
       "strong multicollinearity or other numerical problems.\n",
       "\"\"\""
      ]
     },
     "execution_count": 14,
     "metadata": {},
     "output_type": "execute_result"
    }
   ],
   "source": [
    "results = regress(Y,X)\n",
    "results.summary()"
   ]
  },
  {
   "cell_type": "markdown",
   "metadata": {},
   "source": [
    "Como o \tP>|t| foi igual a zero para todas as variáveis, pode-se concluir que todas variáveis são relevantes. Dessa forma, partimos para a implementação do modelo de fato."
   ]
  },
  {
   "cell_type": "code",
   "execution_count": 15,
   "metadata": {},
   "outputs": [],
   "source": [
    "# Importando bibliotecas especifica para o modelo\n",
    "from sklearn.model_selection import train_test_split\n",
    "from sklearn.linear_model import LinearRegression\n",
    "from sklearn.metrics import mean_squared_error\n",
    "\n",
    "dados = dados.dropna()\n",
    "model = LinearRegression()\n",
    "y = dados['popularity']"
   ]
  },
  {
   "cell_type": "code",
   "execution_count": 16,
   "metadata": {},
   "outputs": [
    {
     "name": "stdout",
     "output_type": "stream",
     "text": [
      "O modelo é: popularidade = 43.532 + 22.499*danceability + -5.8704*energy + -4.3914*liveness + 0.76808*loudness + -0.002184*duration\n"
     ]
    }
   ],
   "source": [
    "reg = LinearRegression()\n",
    "reg.fit(X, y)\n",
    "\n",
    "reg.coef_\n",
    "print(\"O modelo é: popularidade = {:.5} + {:.5}*danceability + {:.5}*energy + {:.5}*liveness + {:.5}*loudness + {:.5}*duration\".format(reg.intercept_, reg.coef_[0], reg.coef_[1], reg.coef_[2], reg.coef_[3], reg.coef_[4]))"
   ]
  },
  {
   "cell_type": "code",
   "execution_count": 17,
   "metadata": {},
   "outputs": [],
   "source": [
    "# Dividindo o dataframe em treinamento e teste\n",
    "X_train, X_test, y_train, y_test = train_test_split(X, y, test_size=0.33)"
   ]
  },
  {
   "cell_type": "code",
   "execution_count": 18,
   "metadata": {},
   "outputs": [
    {
     "data": {
      "text/plain": [
       "LinearRegression()"
      ]
     },
     "execution_count": 18,
     "metadata": {},
     "output_type": "execute_result"
    }
   ],
   "source": [
    "regr = LinearRegression() # cria o modelo \n",
    "X_sm_train = sm.add_constant(X_train)\n",
    "y_sm_train = sm.add_constant(y_train)\n",
    "X_sm_test = sm.add_constant(X_test)\n",
    "y_sm_test = sm.add_constant(y_test)\n",
    "regr.fit(X_sm_train, y_sm_train) # treina o modelo"
   ]
  },
  {
   "cell_type": "code",
   "execution_count": 19,
   "metadata": {},
   "outputs": [],
   "source": [
    "y_pred = reg.predict(X_test)"
   ]
  },
  {
   "cell_type": "markdown",
   "id": "d02e01c1",
   "metadata": {},
   "source": [
    "#### Qualidades de ajuste (R² e RMS):"
   ]
  },
  {
   "cell_type": "code",
   "execution_count": 20,
   "metadata": {},
   "outputs": [
    {
     "data": {
      "text/plain": [
       "0.5845326969729245"
      ]
     },
     "execution_count": 20,
     "metadata": {},
     "output_type": "execute_result"
    }
   ],
   "source": [
    "# Percentual de acertos do modelo - r^2\n",
    "regr.score(X_sm_train,y_sm_train)"
   ]
  },
  {
   "cell_type": "code",
   "execution_count": 21,
   "metadata": {},
   "outputs": [
    {
     "data": {
      "text/plain": [
       "203.64563373968264"
      ]
     },
     "execution_count": 21,
     "metadata": {},
     "output_type": "execute_result"
    }
   ],
   "source": [
    "# Erro quadrado medio\n",
    "mean_squared_error(y_test,y_pred)"
   ]
  },
  {
   "cell_type": "markdown",
   "metadata": {},
   "source": [
    "#### Validação -  Rodando o modelo para 100 amostras diferentes:"
   ]
  },
  {
   "cell_type": "code",
   "execution_count": 22,
   "metadata": {},
   "outputs": [
    {
     "data": {
      "image/png": "[encoded data removed]",
      "text/plain": [
       "<Figure size 432x288 with 1 Axes>"
      ]
     },
     "metadata": {
      "needs_background": "light"
     },
     "output_type": "display_data"
    },
    {
     "data": {
      "image/png": "[encoded data removed]",
      "text/plain": [
       "<Figure size 432x288 with 1 Axes>"
      ]
     },
     "metadata": {
      "needs_background": "light"
     },
     "output_type": "display_data"
    }
   ],
   "source": [
    "lista_r_quadrado_regressao_linear = []\n",
    "erro_quadratico_medio_regressao_linear = []\n",
    "for i in range(101):\n",
    "    regr = LinearRegression()\n",
    "    \n",
    "    if i ==0:\n",
    "        x_test = X[0:499]\n",
    "        x_train = X[499:]\n",
    "        y_test = Y[0:499]\n",
    "        y_train = Y[499:]\n",
    "    else:\n",
    "        x_test = X[499*i:499*(i+1)]\n",
    "        x_train1 = X[0:499*i-1]\n",
    "        x_train2 = X[499*(i+1)+1:]\n",
    "        x_train = pd.concat([x_train1, x_train2])\n",
    "        y_test = Y[499*i:499*(i+1)]\n",
    "        y_train1 = Y[0:499*i-1]\n",
    "        y_train2 = Y[499*(i+1)+1:]\n",
    "        y_train = pd.concat([y_train1, y_train2])\n",
    "    \n",
    "    X_sm_train = sm.add_constant(x_train)\n",
    "    y_sm_train = sm.add_constant(y_train)\n",
    "    X_sm_test = sm.add_constant(x_test)\n",
    "    y_sm_test = sm.add_constant(y_test)\n",
    "    \n",
    "    regr.fit(X_sm_train, y_sm_train)\n",
    "    y_pred = reg.predict(x_test)\n",
    "    \n",
    "    lista_r_quadrado_regressao_linear.append(regr.score(X_sm_train,y_sm_train))\n",
    "    erro_quadratico_medio_regressao_linear.append(mean_squared_error(y_test,y_pred))\n",
    "    \n",
    "        \n",
    "plt.hist(lista_r_quadrado_regressao_linear, edgecolor='white', density=True)\n",
    "plt.suptitle('Modelo1')\n",
    "plt.title('Histograma do r²')\n",
    "plt.ylabel('Frequência')\n",
    "plt.show()\n",
    "\n",
    "plt.hist(erro_quadratico_medio_regressao_linear, edgecolor='white', density=True)\n",
    "plt.title('Histograma do Erro quadrático médio')\n",
    "plt.ylabel('Frequência')\n",
    "plt.show()"
   ]
  },
  {
   "cell_type": "markdown",
   "metadata": {},
   "source": [
    "#### Conclusão Regressão Linear Múltipla:\n",
    "\n",
    "Observando os resultados do Modelo de Regressão linear múltipla, podemos observar que o percentual de acerto (o r^2), está com valor médio por volta de  de 0.5855, note que os gráficos acima foram gerados com 100 amostras diferentes , ou seja, em média o modelo acerta em 58.5% dos casos. Lembrando que quanto mais próximo de 1 (100%) for o r^2 , melhor é o modelo.\n",
    "Outro valor que está sendo analisado é o erro quadrático médio que tem o seu valor variando entre  próximo de 120 até mais de 500, com a maior parte dos valores se concentrando no intervalo de 150 a 200, que são valores razoáveis. Por outro lado, percebemos um intervalo entre aproximadadamente 220 e 350 que não tem valores, isso se deve por conta da 100 amostras diferentes, o que mostra que teve amostrar com erros bem maiores que outras. Porém, os valores  do modelo até que são satisfatórios. Lembrando que o valor ideal para esse erro é zero."
   ]
  },
  {
   "cell_type": "markdown",
   "metadata": {},
   "source": [
    "### Random forest regression"
   ]
  },
  {
   "cell_type": "markdown",
   "metadata": {},
   "source": [
    "Random Forest Regression é um algoritmo de aprendizado supervisionado que usa o método de aprendizado de conjunto para regressão. Como o próprio nome propõe, esse modelo se baseia em uma floresta aleatória “construída” por várias árvores de decisão, produzindo a média das classes como previsão de todas as árvores. \n",
    "\n",
    "A seguir temos uma imagem exemplificando como esse modelo funciona:\n"
   ]
  },
  {
   "cell_type": "markdown",
   "metadata": {},
   "source": [
    "![Modelo_Regressao1](Modelo_Regressao1.png)"
   ]
  },
  {
   "cell_type": "code",
   "execution_count": 23,
   "metadata": {},
   "outputs": [],
   "source": [
    "# Importando bibliotecas especifica para o modelo\n",
    "from sklearn.ensemble import RandomForestRegressor\n",
    "from sklearn.metrics import r2_score\n",
    "from sklearn.metrics import mean_squared_error"
   ]
  },
  {
   "cell_type": "code",
   "execution_count": 24,
   "metadata": {},
   "outputs": [],
   "source": [
    "# Dividindo o dataframe em treinamento e teste\n",
    "X_train,X_test,Y_train,Y_test = train_test_split(X,Y,test_size=0.2,random_state=0)"
   ]
  },
  {
   "cell_type": "code",
   "execution_count": 25,
   "metadata": {},
   "outputs": [
    {
     "data": {
      "text/plain": [
       "RandomForestRegressor(n_estimators=10, random_state=0)"
      ]
     },
     "execution_count": 25,
     "metadata": {},
     "output_type": "execute_result"
    }
   ],
   "source": [
    "regressor = RandomForestRegressor(n_estimators=10,random_state=0)\n",
    "regressor.fit(X_train,Y_train)"
   ]
  },
  {
   "cell_type": "code",
   "execution_count": 26,
   "metadata": {},
   "outputs": [
    {
     "data": {
      "text/plain": [
       "array([36.6 , 45.1 , 55.3 , ..., 48.1 , 45.2 , 38.85])"
      ]
     },
     "execution_count": 26,
     "metadata": {},
     "output_type": "execute_result"
    }
   ],
   "source": [
    "Y_pred = regressor.predict(X_test)\n",
    "Y_pred # previsão"
   ]
  },
  {
   "cell_type": "markdown",
   "id": "1f8f4315",
   "metadata": {},
   "source": [
    "#### Qualidades de ajuste (R² e RMS):"
   ]
  },
  {
   "cell_type": "code",
   "execution_count": 27,
   "metadata": {},
   "outputs": [
    {
     "data": {
      "text/plain": [
       "0.22716219744851107"
      ]
     },
     "execution_count": 27,
     "metadata": {},
     "output_type": "execute_result"
    }
   ],
   "source": [
    "# Percentual de acertos do modelo - r^2\n",
    "r2_score(Y_test, Y_pred)"
   ]
  },
  {
   "cell_type": "code",
   "execution_count": 28,
   "metadata": {},
   "outputs": [
    {
     "data": {
      "text/plain": [
       "188.683519071199"
      ]
     },
     "execution_count": 28,
     "metadata": {},
     "output_type": "execute_result"
    }
   ],
   "source": [
    "# Erro quadrado medio\n",
    "mean_squared_error(Y_test, Y_pred)"
   ]
  },
  {
   "cell_type": "markdown",
   "metadata": {},
   "source": [
    "#### Validação -  Rodando o modelo para 100 amostras diferentes:"
   ]
  },
  {
   "cell_type": "code",
   "execution_count": 29,
   "metadata": {},
   "outputs": [
    {
     "data": {
      "image/png": "[encoded data removed]",
      "text/plain": [
       "<Figure size 432x288 with 1 Axes>"
      ]
     },
     "metadata": {
      "needs_background": "light"
     },
     "output_type": "display_data"
    },
    {
     "data": {
      "image/png": "[encoded data removed]",
      "text/plain": [
       "<Figure size 432x288 with 1 Axes>"
      ]
     },
     "metadata": {
      "needs_background": "light"
     },
     "output_type": "display_data"
    }
   ],
   "source": [
    "lista_r_quadrado_random_forest = []\n",
    "erro_quadratico_medio_random_forest = []\n",
    "\n",
    "X = dados[['danceability', 'energy', 'liveness', 'loudness', 'duration_s']]\n",
    "Y = dados['popularity']\n",
    "\n",
    "randomfor = RandomForestRegressor(n_estimators=10,random_state=0)\n",
    "\n",
    "for i in range(101):\n",
    "    \n",
    "    if i ==0:\n",
    "        x_test = X[0:499]\n",
    "        x_train = X[499:]\n",
    "        y_test = Y[0:499]\n",
    "        y_train = Y[499:]\n",
    "    else:\n",
    "        x_test = X[499*i:499*(i+1)]\n",
    "        x_train1 = X[0:499*i-1]\n",
    "        x_train2 = X[499*(i+1)+1:]\n",
    "        x_train = pd.concat([x_train1, x_train2])\n",
    "        y_test = Y[499*i:499*(i+1)]\n",
    "        y_train1 = Y[0:499*i-1]\n",
    "        y_train2 = Y[499*(i+1)+1:]\n",
    "        y_train = pd.concat([y_train1, y_train2])\n",
    "    \n",
    "    \n",
    "    randomfor.fit(x_train,y_train)\n",
    "    y_pred_randomfor = randomfor.predict(x_test)\n",
    "    \n",
    "    lista_r_quadrado_random_forest.append(r2_score(y_test, y_pred_randomfor))\n",
    "    erro_quadratico_medio_random_forest.append(mean_squared_error(y_test, y_pred_randomfor))\n",
    "    \n",
    "     \n",
    "plt.hist(lista_r_quadrado_random_forest, edgecolor='white', density=True)\n",
    "plt.suptitle('Modelo2')\n",
    "plt.title('Histograma do r² - Random Forest')\n",
    "plt.ylabel('Frequência')\n",
    "plt.show()\n",
    "\n",
    "plt.hist(erro_quadratico_medio_random_forest, edgecolor='white', density=True)\n",
    "plt.title('Histograma do Erro quadrático médio - Random Forest')\n",
    "plt.ylabel('Frequência')\n",
    "plt.show()"
   ]
  },
  {
   "cell_type": "markdown",
   "metadata": {},
   "source": [
    "#### Conclusão Random Forest Regression:\n",
    "Olhandos resultados do Modelo \"Random Forest Regression\", que considera varias árvores de decisões,o valor de R-quadrado está próximo de 0.227, 22.7%,esse resultado foi gerado considerando uma amostra específica, note que foi um valor abaixo do valor obtido no modelo de regressão.\n",
    "Quando vamos analisar o gráfico que foi gerado com 100 amostras diferentes podemos perceber que o valor de R-quadrado está, em maior parte, ficando negativo, o que indica que o modelo não se encaixou muito bem na situação , ele está errando mais do que se a estimativa fosse a média.\n",
    "\n",
    "O erro quadrático médio em sua maior parte tem um valor entre 400 e 600, um valor alto que é um ruim, porém  tem uma parte relevante que está entre 100 e 200 que é um valor baixo. Entretando, como o valor de R-quadrado está na casa dos negativos, mesmo tendo valores baixos de erro quadrático o modelo está muito ruim para fazer a predição da popularidade das músicas\n"
   ]
  },
  {
   "cell_type": "markdown",
   "metadata": {},
   "source": [
    "### Regression tree"
   ]
  },
  {
   "cell_type": "markdown",
   "metadata": {},
   "source": [
    "Ao contrário do modelo Random Forest Regression, o Regression Tree, faz algo semelhante, porém com apenas a análise detalhada de uma árvore. Para que isso seja possível essa árvore é dividida em ramos, nós e folhas, fazendo com que o modelo imponha uma série de perguntas, afunilando cada vez mais, para obter um resultado. \n",
    "Uma dúvida que pode surgir é de como essas perguntas são feitas. Basicamente essa árvore é classificada como um modelo de aprendizagem supervisionada. Assim, a árvore de decisão é capaz de fazer uma previsão percorrendo toda a árvore, fazendo perguntas verdadeiro / falso, até chegar a um nó folha. A previsão final é dada pela média do valor da variável dependente naquele nó folha."
   ]
  },
  {
   "cell_type": "markdown",
   "metadata": {},
   "source": [
    "![Modelo_Regressao2](Modelo_Regressao2.png)"
   ]
  },
  {
   "cell_type": "code",
   "execution_count": 31,
   "metadata": {},
   "outputs": [],
   "source": [
    "# Importando bibliotecas especifica para o modelo\n",
    "from sklearn.tree import DecisionTreeRegressor "
   ]
  },
  {
   "cell_type": "code",
   "execution_count": 32,
   "metadata": {},
   "outputs": [],
   "source": [
    "X_train,X_test,Y_train,Y_test = train_test_split(X,Y,test_size=0.2,random_state=1)"
   ]
  },
  {
   "cell_type": "code",
   "execution_count": 33,
   "metadata": {},
   "outputs": [
    {
     "data": {
      "text/plain": [
       "DecisionTreeRegressor(random_state=0)"
      ]
     },
     "execution_count": 33,
     "metadata": {},
     "output_type": "execute_result"
    }
   ],
   "source": [
    "regressor= DecisionTreeRegressor(random_state=0)\n",
    "regressor.fit(X_train,Y_train)"
   ]
  },
  {
   "cell_type": "code",
   "execution_count": 34,
   "metadata": {},
   "outputs": [
    {
     "data": {
      "text/plain": [
       "array([60., 41., 40., ..., 13., 50., 47.])"
      ]
     },
     "execution_count": 34,
     "metadata": {},
     "output_type": "execute_result"
    }
   ],
   "source": [
    "Y_pred = regressor.predict(X_test)\n",
    "Y_pred"
   ]
  },
  {
   "cell_type": "markdown",
   "id": "cbaab392",
   "metadata": {},
   "source": [
    "#### Qualidades de ajuste (R² e RMS):"
   ]
  },
  {
   "cell_type": "code",
   "execution_count": 35,
   "metadata": {},
   "outputs": [
    {
     "data": {
      "text/plain": [
       "-0.3946371908975248"
      ]
     },
     "execution_count": 35,
     "metadata": {},
     "output_type": "execute_result"
    }
   ],
   "source": [
    "# Percentual de acertos do modelo - r^2\n",
    "r2_score(Y_test, Y_pred)"
   ]
  },
  {
   "cell_type": "code",
   "execution_count": 36,
   "metadata": {},
   "outputs": [
    {
     "data": {
      "text/plain": [
       "342.36654722222227"
      ]
     },
     "execution_count": 36,
     "metadata": {},
     "output_type": "execute_result"
    }
   ],
   "source": [
    "# Erro quadrado medio\n",
    "mean_squared_error(Y_test, Y_pred)"
   ]
  },
  {
   "cell_type": "markdown",
   "metadata": {},
   "source": [
    "#### Validação -  Rodando o modelo para 100 amostras diferentes:"
   ]
  },
  {
   "cell_type": "code",
   "execution_count": 37,
   "metadata": {},
   "outputs": [
    {
     "data": {
      "image/png": "[encoded data removed]",
      "text/plain": [
       "<Figure size 432x288 with 1 Axes>"
      ]
     },
     "metadata": {
      "needs_background": "light"
     },
     "output_type": "display_data"
    },
    {
     "data": {
      "image/png": "[encoded data removed]",
      "text/plain": [
       "<Figure size 432x288 with 1 Axes>"
      ]
     },
     "metadata": {
      "needs_background": "light"
     },
     "output_type": "display_data"
    }
   ],
   "source": [
    "lista_r_quadrado_regression_tree = []\n",
    "erro_quadratico_medio_regression_tree = []\n",
    "\n",
    "X = dados[['danceability', 'energy', 'liveness', 'loudness', 'duration_s']]\n",
    "Y = dados['popularity']\n",
    "\n",
    "regrtree = DecisionTreeRegressor(random_state=0)\n",
    "\n",
    "for i in range(101):\n",
    "    \n",
    "    if i ==0:\n",
    "        x_test = X[0:499]\n",
    "        x_train = X[499:]\n",
    "        y_test = Y[0:499]\n",
    "        y_train = Y[499:]\n",
    "    else:\n",
    "        x_test = X[499*i:499*(i+1)]\n",
    "        x_train1 = X[0:499*i-1]\n",
    "        x_train2 = X[499*(i+1)+1:]\n",
    "        x_train = pd.concat([x_train1, x_train2])\n",
    "        y_test = Y[499*i:499*(i+1)]\n",
    "        y_train1 = Y[0:499*i-1]\n",
    "        y_train2 = Y[499*(i+1)+1:]\n",
    "        y_train = pd.concat([y_train1, y_train2])\n",
    "    \n",
    "    \n",
    "    regrtree.fit(x_train,y_train)\n",
    "    y_pred_tree = regrtree.predict(x_test)\n",
    "    \n",
    "    lista_r_quadrado_regression_tree.append(r2_score(y_test, y_pred_tree))\n",
    "    erro_quadratico_medio_regression_tree.append(mean_squared_error(y_test, y_pred_tree))\n",
    "   \n",
    "        \n",
    "plt.hist(lista_r_quadrado_regression_tree, edgecolor='white', density=True)\n",
    "plt.suptitle('Modelo3')\n",
    "plt.title('Histograma do r² - Random Tree')\n",
    "plt.ylabel('Frequência')\n",
    "plt.show()\n",
    "\n",
    "plt.hist(erro_quadratico_medio_regression_tree, edgecolor='white', density=True)\n",
    "plt.title('Histograma do Erro quadrático médio - Random Tree')\n",
    "plt.ylabel('Frequência')\n",
    "plt.show()"
   ]
  },
  {
   "cell_type": "markdown",
   "metadata": {},
   "source": [
    "#### Conclusão Regression  Tree:\n",
    "Olhandos resultados do Modelo \"Regression tree\", que considera apenas uma arvore, com uma amostra o R-quadrado está em -0.394, ou seja ele está errando mais do que se usasse a média como parâmetro nessa previsão.\n",
    "O erro quadrático médio(RMS) que tem valor de apróximado de 342.36, que é pouco menos que o dobro da média dos modelos já vistos, o que significa que foi um resultado pior comparando.\n",
    "Analisando os gráficos de R-quadrado e do erro quadrático médio com as 100 amostras diferentes podemos perceber que todas as amostras utilizadas ficaram com R-quadrado negativo, ou seja, esse modelo não é bom para ser utilizado na base dados escolhida. Alem disso os valores de RMS estão bastante espalhados e chegando na casa de 700, o que é muito alto comparado aos modelos anteriores reforçando que essa não é uma boa escolha\n"
   ]
  },
  {
   "cell_type": "markdown",
   "metadata": {},
   "source": [
    "## Conclusão"
   ]
  },
  {
   "cell_type": "markdown",
   "metadata": {},
   "source": [
    "### Comparando os modelos"
   ]
  },
  {
   "cell_type": "code",
   "execution_count": 43,
   "metadata": {},
   "outputs": [
    {
     "data": {
      "image/png": "[encoded data removed]",
      "text/plain": [
       "<Figure size 1440x1080 with 6 Axes>"
      ]
     },
     "metadata": {
      "needs_background": "light"
     },
     "output_type": "display_data"
    }
   ],
   "source": [
    "plt.figure(figsize=(20, 15))\n",
    "\n",
    "plt.subplot(231)\n",
    "plt.hist(lista_r_quadrado_regressao_linear, edgecolor='white', density=True)\n",
    "plt.title('Histograma do r² - Regressão Linear')\n",
    "plt.xlabel('R²')\n",
    "plt.ylabel('Frequência')\n",
    "\n",
    "plt.subplot(232)\n",
    "plt.hist(lista_r_quadrado_random_forest, edgecolor='white', density=True)\n",
    "plt.title('Histograma do r² - Random Forest')\n",
    "plt.xlabel('R²')\n",
    "plt.ylabel('Frequência')\n",
    "\n",
    "plt.subplot(233)\n",
    "plt.hist(lista_r_quadrado_regression_tree, edgecolor='white', density=True)\n",
    "plt.title('Histograma do r² - Random Tree')\n",
    "plt.xlabel('R²')\n",
    "plt.ylabel('Frequência')\n",
    "\n",
    "plt.subplot(234)\n",
    "plt.hist(erro_quadratico_medio_regressao_linear, edgecolor='white', density=True)\n",
    "plt.title('Histograma do Erro quadrático médio')\n",
    "plt.xlabel('RMS')\n",
    "plt.ylabel('Frequência')\n",
    "\n",
    "plt.subplot(235)\n",
    "plt.hist(erro_quadratico_medio_random_forest, edgecolor='white', density=True)\n",
    "plt.title('Histograma do Erro quadrático médio - Random Forest')\n",
    "plt.xlabel('RMS')\n",
    "plt.ylabel('Frequência')\n",
    "\n",
    "plt.subplot(236)\n",
    "plt.hist(erro_quadratico_medio_regression_tree, edgecolor='white', density=True)\n",
    "plt.title('Histograma do Erro quadrático médio - Random Tree')\n",
    "plt.xlabel('RMS')\n",
    "plt.ylabel('Frequência')\n",
    "plt.show()"
   ]
  },
  {
   "cell_type": "markdown",
   "metadata": {},
   "source": [
    "Então, após analisar todos os modelos, percebemos que os modelos de Random Forest e Tree Regression não desempenharam bem ao tentar realizar a predição, ficando com os valores de R-quadrado bem ruins, abaixos de 20% e com valores negativos. O melhor modelo dentro os utilizados foi a Regressão Linear Múltipla que teve uma acurácia média de 58% e RMS com um valor razoável."
   ]
  },
  {
   "cell_type": "markdown",
   "metadata": {},
   "source": [
    "Retomando nosso questionamento inicial (como a duração de uma música influencia em sua popularidade), percebemos que a relação entre duração e popularidade é muito fraca, ou seja, não há grande influência entre essas variáveis. Conclui-se então que seria inadequado tentar prever a popularidade de uma música baseado apenas em sua duração. Quando fizemos a regressão percebemos que as outras variáveis eram mais relevantes que a duração. Por isso, utilizamos as outras variáveis Features da base de dados para fazer os modelos preditivos de forma mais confiável. "
   ]
  },
  {
   "cell_type": "markdown",
   "metadata": {},
   "source": [
    "## Referências"
   ]
  },
  {
   "cell_type": "markdown",
   "metadata": {},
   "source": [
    "https://www.kaggle.com/vicsuperman/prediction-of-music-genre\n",
    "\n",
    "https://levelup.gitconnected.com/random-forest-regression-209c0f354c84\n",
    "\n",
    "https://scikit-learn.org/stable/modules/generated/sklearn.metrics.mean_squared_error.html\n",
    "\n",
    "https://medium.com/pursuitnotes/decision-tree-regression-in-6-steps-with-python-1a1c5aa2ee16\n",
    "\n",
    "https://scikit-learn.org/stable/auto_examples/tree/plot_tree_regression.html\n"
   ]
  }
 ],
 "metadata": {
  "kernelspec": {
   "display_name": "Python 3",
   "language": "python",
   "name": "python3"
  },
  "language_info": {
   "codemirror_mode": {
    "name": "ipython",
    "version": 3
   },
   "file_extension": ".py",
   "mimetype": "text/x-python",
   "name": "python",
   "nbconvert_exporter": "python",
   "pygments_lexer": "ipython3",
   "version": "3.8.8"
  }
 },
 "nbformat": 4,
 "nbformat_minor": 5
}
